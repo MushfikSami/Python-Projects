{
  "nbformat": 4,
  "nbformat_minor": 0,
  "metadata": {
    "colab": {
      "provenance": [],
      "gpuType": "T4"
    },
    "kernelspec": {
      "name": "python3",
      "display_name": "Python 3"
    },
    "language_info": {
      "name": "python"
    },
    "accelerator": "GPU"
  },
  "cells": [
    {
      "cell_type": "code",
      "source": [
        "import torch\n",
        "import torch.nn as nn\n",
        "import torch.optim as optim\n",
        "import torchvision.transforms as transforms\n",
        "from torch.utils.data import DataLoader\n",
        "from torchvision import datasets, transforms, models\n",
        "import matplotlib.pyplot as plt\n"
      ],
      "metadata": {
        "id": "bCyrev9gnn4j"
      },
      "execution_count": 12,
      "outputs": []
    },
    {
      "cell_type": "code",
      "source": [
        "transforms=transforms.Compose(\n",
        "    [transforms.Resize((128,128)),\n",
        "     transforms.ToTensor(),\n",
        "     transforms.Normalize((0.5,0.5,0.5),(0.5,0.5,0.5))\n",
        "     ]\n",
        ")\n",
        "\n",
        "full_data=datasets.ImageFolder(root='/content/drive/MyDrive/PlantVillage',transform=transforms)\n",
        "train_size=int(0.8*len(full_data))\n",
        "test_size=len(full_data)-train_size\n",
        "train_data,test_data=torch.utils.data.random_split(full_data,[train_size,test_size])\n",
        "\n",
        "train_loader=DataLoader(train_data,batch_size=32,shuffle=True)\n",
        "test_loader=DataLoader(test_data,batch_size=32,shuffle=True)"
      ],
      "metadata": {
        "id": "JpbJJ7fQobhr"
      },
      "execution_count": 13,
      "outputs": []
    },
    {
      "cell_type": "code",
      "source": [
        "device=torch.device(\"cuda\" if torch.cuda.is_available() else \"cpu\")"
      ],
      "metadata": {
        "id": "MBCpSlzAsDyj"
      },
      "execution_count": 14,
      "outputs": []
    },
    {
      "cell_type": "code",
      "source": [
        "model=nn.Sequential(\n",
        "    nn.Conv2d(3,32,3,padding=1),\n",
        "    nn.ReLU(),\n",
        "    nn.MaxPool2d(2,2),\n",
        "    nn.Flatten(),\n",
        "    nn.Linear(32*64*64,3)\n",
        ").to(device)"
      ],
      "metadata": {
        "id": "S6ooR_fjq-g9"
      },
      "execution_count": 15,
      "outputs": []
    },
    {
      "cell_type": "code",
      "source": [
        "loss_fn=nn.CrossEntropyLoss()\n",
        "optimizer=optim.Adam(model.parameters(),lr=0.001)"
      ],
      "metadata": {
        "id": "NBmDqpC-r8Kh"
      },
      "execution_count": 16,
      "outputs": []
    },
    {
      "cell_type": "code",
      "source": [
        "for i in range(0,10):\n",
        "  loss=0\n",
        "  for images,labels in train_loader:\n",
        "    images=images.to(device)\n",
        "    labels=labels.to(device)\n",
        "\n",
        "    optimizer.zero_grad()\n",
        "    outputs=model(images)\n",
        "    loss=loss_fn(outputs,labels)\n",
        "    loss.backward()\n",
        "    optimizer.step()\n",
        "  print(loss)"
      ],
      "metadata": {
        "colab": {
          "base_uri": "https://localhost:8080/"
        },
        "id": "aZ7PP1ZFsLXG",
        "outputId": "f2c0d6bb-04d0-4362-8fc5-86fe197b82bb"
      },
      "execution_count": 17,
      "outputs": [
        {
          "output_type": "stream",
          "name": "stdout",
          "text": [
            "tensor(0.0023, device='cuda:0', grad_fn=<NllLossBackward0>)\n",
            "tensor(0.0005, device='cuda:0', grad_fn=<NllLossBackward0>)\n",
            "tensor(0.0002, device='cuda:0', grad_fn=<NllLossBackward0>)\n",
            "tensor(0.0029, device='cuda:0', grad_fn=<NllLossBackward0>)\n",
            "tensor(0.0009, device='cuda:0', grad_fn=<NllLossBackward0>)\n",
            "tensor(0.0004, device='cuda:0', grad_fn=<NllLossBackward0>)\n",
            "tensor(0.0006, device='cuda:0', grad_fn=<NllLossBackward0>)\n",
            "tensor(0.0005, device='cuda:0', grad_fn=<NllLossBackward0>)\n",
            "tensor(3.4999e-05, device='cuda:0', grad_fn=<NllLossBackward0>)\n",
            "tensor(3.6060e-06, device='cuda:0', grad_fn=<NllLossBackward0>)\n"
          ]
        }
      ]
    },
    {
      "cell_type": "code",
      "source": [
        "correct=0\n",
        "total=0\n",
        "model.eval()\n",
        "with torch.no_grad():\n",
        "  for images,labels in test_loader:\n",
        "    images=images.to(device)\n",
        "    labels=labels.to(device)\n",
        "    _,preds=torch.max(model(images),1)\n",
        "    correct+=(preds==labels).sum().item()\n",
        "    outputs=model(images)\n",
        "    total+=labels.size(0)\n",
        "print(correct/total)\n",
        ""
      ],
      "metadata": {
        "colab": {
          "base_uri": "https://localhost:8080/"
        },
        "id": "RjZ8QKOkspHk",
        "outputId": "3282d56e-8cde-4b9b-f2bd-d60327c2db2f"
      },
      "execution_count": 18,
      "outputs": [
        {
          "output_type": "stream",
          "name": "stdout",
          "text": [
            "0.9938949938949939\n"
          ]
        }
      ]
    }
  ]
}